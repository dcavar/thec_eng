{
 "cells": [
  {
   "attachments": {},
   "cell_type": "markdown",
   "metadata": {},
   "source": [
    "# Analyze Corpus\n",
    "\n",
    "(C) 2024 by [Damir Cavar](http://damir.cavar.me/)\n",
    "\n",
    "This notebook provides an overview of the data in the English sub-corpus.\n",
    "\n",
    "This code is part of the [NLP-Lab](http://nlp-lab.org/) [The Hoosier Ellipsis Project](https://nlp-lab.org/ellipsis/).\n",
    "\n",
    "The prerequisites for this code to run are:\n",
    "\n",
    "- install the requirements using `pip install -r requirements.txt`"
   ]
  },
  {
   "cell_type": "code",
   "execution_count": 39,
   "metadata": {},
   "outputs": [
    {
     "name": "stdout",
     "output_type": "stream",
     "text": [
      "English total: 575\n"
     ]
    },
    {
     "data": {
      "application/vnd.jupyter.widget-view+json": {
       "model_id": "df9f9ae44b104283b78fdd2f14a5b554",
       "version_major": 2,
       "version_minor": 0
      },
      "text/plain": [
       "DataGrid(auto_fit_columns=True, auto_fit_params={'area': 'body', 'padding': 80, 'numCols': 2}, corner_renderer…"
      ]
     },
     "execution_count": 39,
     "metadata": {},
     "output_type": "execute_result"
    }
   ],
   "source": [
    "import os\n",
    "import regex as re\n",
    "import pandas as pd\n",
    "from ipydatagrid import DataGrid\n",
    "\n",
    "re_entry = re.compile(r\"\\n+(?P<ellipsis>.+)\\n^----\\n(?P<fullform>^.+)\\n(^#.+\\n)*\", re.MULTILINE)\n",
    "\n",
    "def parse_txt_format(filename):\n",
    "    if \"data\" in filename:\n",
    "        with open(filename, mode='r', encoding='utf-8') as ifp:\n",
    "            text = ifp.read()\n",
    "        counter = 0\n",
    "        for match in re_entry.finditer(text):\n",
    "            counter += 1\n",
    "        return counter\n",
    "    return 0\n",
    "\n",
    "res = []\n",
    "for subdir, dirs, files in os.walk(\"data\"):\n",
    "    for file in files:\n",
    "        if file.endswith(\".txt\"):\n",
    "            full_path = os.path.join(subdir, file)\n",
    "            count = parse_txt_format(full_path)\n",
    "            if count > 0:\n",
    "                res.append( (os.path.splitext(os.path.basename(full_path))[0], count) )\n",
    "res.sort(key=lambda x: x[1], reverse=True)\n",
    "df = pd.DataFrame(res, columns=(\"type\", \"count\"), index=None)\n",
    "bylang = {}\n",
    "for r in res:\n",
    "    bylang[r[0]] = bylang.get(r[0], 0) + r[1]\n",
    "bylang = list(bylang.items())\n",
    "bylang.sort(key=lambda x: x[1], reverse=True)\n",
    "df_bylang = pd.DataFrame(bylang, columns=(\"type\", \"count\"), index=None)\n",
    "Total = df_bylang['count'].sum()\n",
    "print(\"English total:\", Total)\n",
    "grid = DataGrid(df)\n",
    "grid.auto_fit_params = {\"area\": \"body\", \"padding\": 80, \"numCols\": 2}\n",
    "grid.auto_fit_columns = True\n",
    "grid"
   ]
  }
 ],
 "metadata": {
  "kernelspec": {
   "display_name": "Python 3 (ipykernel)",
   "language": "python",
   "name": "python3"
  },
  "language_info": {
   "codemirror_mode": {
    "name": "ipython",
    "version": 3
   },
   "file_extension": ".py",
   "mimetype": "text/x-python",
   "name": "python",
   "nbconvert_exporter": "python",
   "pygments_lexer": "ipython3",
   "version": "3.11.6"
  }
 },
 "nbformat": 4,
 "nbformat_minor": 4
}
